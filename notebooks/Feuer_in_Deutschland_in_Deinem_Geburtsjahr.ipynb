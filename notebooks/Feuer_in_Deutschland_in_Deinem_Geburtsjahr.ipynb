{
 "cells": [
  {
   "cell_type": "markdown",
   "metadata": {},
   "source": [
    "Anmerkung: Auf dem DKRZ Jupyterhub wähle oben rechts den Kernel ESMValTool"
   ]
  },
  {
   "cell_type": "markdown",
   "metadata": {},
   "source": [
    "# Wo hat es in Deutschland in dem Jahr, in dem Du geboren bist, gebrannt?"
   ]
  },
  {
   "cell_type": "markdown",
   "metadata": {},
   "source": [
    "## Gib hier das Jahr an, an dem Du geboren bist. \n",
    "Prinzipiell kannst ein Jahr zwischen 2000 und 2020 angeben."
   ]
  },
  {
   "cell_type": "code",
   "execution_count": null,
   "metadata": {},
   "outputs": [],
   "source": [
    "jahr = 2009             "
   ]
  },
  {
   "cell_type": "markdown",
   "metadata": {},
   "source": [
    "## Nun laden wir die benötigten Apps."
   ]
  },
  {
   "cell_type": "code",
   "execution_count": null,
   "metadata": {},
   "outputs": [],
   "source": [
    "import pandas as pd\n",
    "import os\n",
    "import glob\n",
    "import matplotlib.pyplot as plt\n",
    "%matplotlib inline\n",
    "import sys\n",
    "host = os.uname()[1].split('.')[-2]\n",
    "if host == 'dkrz':                   #-- auf dem DKRZ Supercomputer gibt es \n",
    "    # Installiere App nbformat für die Gestaltung der Abbildung\n",
    "    !pip install --user nbformat --quiet\n",
    "    sys.path.append('../../.local/bin') #-- sage dem Computer, wo er die Apps findet"
   ]
  },
  {
   "cell_type": "code",
   "execution_count": null,
   "metadata": {},
   "outputs": [],
   "source": [
    "import plotly.graph_objs as go\n",
    "import plotly.express as px\n",
    "from plotly.offline import download_plotlyjs, init_notebook_mode, plot, iplot\n",
    "import plotly.io as pio\n",
    "init_notebook_mode(connected=True)\n",
    "\n",
    "from IPython.core.interactiveshell import InteractiveShell\n",
    "InteractiveShell.ast_node_interactivity = 'all'"
   ]
  },
  {
   "cell_type": "markdown",
   "metadata": {},
   "source": [
    "## Nun holen wir die Datei mit den MODIS Feuerbeobachtungen vom NASA Datenarchiv und lesen sie ein."
   ]
  },
  {
   "cell_type": "code",
   "execution_count": null,
   "metadata": {},
   "outputs": [],
   "source": [
    "land       = 'Germany'\n",
    "datei      = 'https://firms.modaps.eosdis.nasa.gov/data/country/modis/'+str(jahr)+'/modis_'+str(jahr)+'_Germany.csv'\n",
    "feuerdaten = pd.read_csv(datei, usecols=['latitude','longitude','acq_date','acq_time','frp','type'])"
   ]
  },
  {
   "cell_type": "markdown",
   "metadata": {},
   "source": [
    "## Hier passen wir die Daten etwas an und wählen nur Vegetationsbrände aus.\n",
    "Bei jedem Feuer gibt es eine Typbeschreibung: Handelt es sich wahrscheinlich um ein Vegetationsbrand oder etwas anderes? Wir wählen nur Feuer aus, die vermutlich echte Vegetationsbrände sind."
   ]
  },
  {
   "cell_type": "code",
   "execution_count": null,
   "metadata": {},
   "outputs": [],
   "source": [
    "feuerdaten['Zeitpunkt'] = pd.to_datetime(feuerdaten['acq_date'] + ' ' + feuerdaten['acq_time'].astype(str).str.zfill(4).str.wrap(2).str.replace('\\n', ':')) + pd.DateOffset(hours=2)\n",
    "feuerdaten.drop(['acq_time','acq_date'], axis='columns', inplace=True)\n",
    "feuerdaten['Datum'] = pd.to_datetime(feuerdaten['Zeitpunkt']).dt.date.astype(str)\n",
    "\n",
    "\n",
    "feuerdaten.rename({'latitude':'Breitengrad', 'longitude':'Längengrad', 'frp':'Feuerintensität', 'type':'Typ'}, axis='columns', inplace=True)\n",
    "feuerdaten['Typ'].replace(to_replace=[0, 2], value=['Vegetationsbrand', 'Anderes'],inplace=True)\n",
    "feuerdaten=feuerdaten[feuerdaten['Typ'] != 'Anderes']"
   ]
  },
  {
   "cell_type": "markdown",
   "metadata": {},
   "source": [
    "### Wie sehen die Daten nun aus (erste 5 Zeilen)?"
   ]
  },
  {
   "cell_type": "code",
   "execution_count": null,
   "metadata": {},
   "outputs": [],
   "source": [
    "feuerdaten.head(5)"
   ]
  },
  {
   "cell_type": "markdown",
   "metadata": {},
   "source": [
    "###  Wie viele Vegetationsbrände gab es in dem Jahr in Deutschland?"
   ]
  },
  {
   "cell_type": "code",
   "execution_count": null,
   "metadata": {},
   "outputs": [],
   "source": [
    "print(feuerdaten['Typ'].value_counts().tolist()[0])"
   ]
  },
  {
   "cell_type": "markdown",
   "metadata": {},
   "source": [
    "# Nun zeichnen wir eine Deutschlandkarte mit den Feuern. "
   ]
  },
  {
   "cell_type": "markdown",
   "metadata": {},
   "source": [
    "### Hier bestimmen wir die Farben des Farbbalkens."
   ]
  },
  {
   "cell_type": "code",
   "execution_count": null,
   "metadata": {},
   "outputs": [],
   "source": [
    "cmap = [[0, 'black'], [0.5, 'red'],[1, 'yellow']]"
   ]
  },
  {
   "cell_type": "markdown",
   "metadata": {},
   "source": [
    "Hier könntet ihr auch andere Farben auf Englisch wählen. \n",
    "Wichtig ist, dass der englische Farbname klein geschrieben ist.\n",
    "Ihr könntet auch eine Regenbogenfarbskala verwenden. Dann müsst ihr nur schreiben:<br>\n",
    "cmap= 'rainbow'"
   ]
  },
  {
   "cell_type": "markdown",
   "metadata": {},
   "source": [
    "### Hier wird die Abbildung gemacht:"
   ]
  },
  {
   "cell_type": "code",
   "execution_count": null,
   "metadata": {},
   "outputs": [],
   "source": [
    "vmin, vmax = 0, 50\n",
    "fig = px.scatter_mapbox(feuerdaten, \n",
    "                        lat = 'Breitengrad', \n",
    "                        lon = 'Längengrad', \n",
    "                        color = 'Feuerintensität', \n",
    "                        size = 'Feuerintensität',\n",
    "                        color_continuous_scale  = cmap,\n",
    "                        opacity = 0.5,\n",
    "                        range_color = [vmin, vmax],\n",
    "                        hover_data=['Typ'],\n",
    "                        animation_frame= 'Datum',  \n",
    "                        center = {'lat': 51.17, 'lon': 10.45}, \n",
    "                        zoom = 4.5,\n",
    "                        mapbox_style = 'carto-positron')\n",
    "fig.update_layout(\n",
    "    title='Feuer in Deutschland im Jahr '+str(jahr), title_x=0.5,\n",
    "    width=700, height=800,\n",
    "    legend={'yanchor': 'top', 'xanchor':'left', 'y':1, 'x': 0.1},\n",
    "    coloraxis={'colorbar':{'title':'Feuerintensität [MW]', 'ticks':'inside'}})\n",
    "\n",
    "fig.layout.updatemenus[0].buttons[0].args[1]['frame']['duration'] = 20\n"
   ]
  },
  {
   "cell_type": "code",
   "execution_count": null,
   "metadata": {},
   "outputs": [],
   "source": [
    "pio.write_html(fig, file = 'MODIS_Feuer_Deutschland_'+str(jahr)+'.html')"
   ]
  }
 ],
 "metadata": {
  "kernelspec": {
   "display_name": "ESMValTool (based on the latest module esmvaltool)",
   "language": "python",
   "name": "esmvaltool"
  },
  "language_info": {
   "codemirror_mode": {
    "name": "ipython",
    "version": 3
   },
   "file_extension": ".py",
   "mimetype": "text/x-python",
   "name": "python",
   "nbconvert_exporter": "python",
   "pygments_lexer": "ipython3",
   "version": "3.10.6"
  }
 },
 "nbformat": 4,
 "nbformat_minor": 4
}
